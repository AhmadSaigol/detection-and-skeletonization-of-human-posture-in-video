{
  "nbformat": 4,
  "nbformat_minor": 0,
  "metadata": {
    "colab": {
      "name": "CV_Project_1.ipynb",
      "provenance": [],
      "collapsed_sections": []
    },
    "kernelspec": {
      "display_name": "Python 3",
      "name": "python3"
    },
    "language_info": {
      "name": "python"
    }
  },
  "cells": [
    {
      "cell_type": "markdown",
      "metadata": {
        "id": "Fi13drgFAIA5"
      },
      "source": [
        "# **Importing Necessary Libraries**"
      ]
    },
    {
      "cell_type": "code",
      "metadata": {
        "id": "FjceFNcSACfp"
      },
      "source": [
        "import cv2\n",
        "from google.colab.patches import cv2_imshow\n",
        "import sys\n",
        "import numpy as np"
      ],
      "execution_count": 1,
      "outputs": []
    },
    {
      "cell_type": "markdown",
      "metadata": {
        "id": "LQsCw1wjeDl_"
      },
      "source": [
        "# **Detector**"
      ]
    },
    {
      "cell_type": "code",
      "metadata": {
        "id": "w5Ta0lFsByj4"
      },
      "source": [
        "def Detector (video, resize):\n",
        "  '''\n",
        "  Detects and skeletonize the humans.\n",
        "  Also returns the modified video to 'output.avi'\n",
        "\n",
        "  Parameters:\n",
        "    'video': str\n",
        "      path to the video\n",
        "    'resize': tuple of integers (Width, Height)\n",
        "      resizes each frame to specified values. \n",
        "\n",
        "  ''' \n",
        "\n",
        "  # Initializing the HOG person detector\n",
        "  hog = cv2.HOGDescriptor()\n",
        "  hog.setSVMDetector(cv2.HOGDescriptor_getDefaultPeopleDetector())\n",
        "\n",
        "  \n",
        "  #for reading frames in video\n",
        "  cap = cv2.VideoCapture(video)\n",
        "\n",
        "  if (cap.isOpened()== False):\n",
        "    sys.exit(\"Error opening video stream or file\")\n",
        "\n",
        "  #for storing video\n",
        "  out = cv2.VideoWriter('output.avi', cv2.VideoWriter_fourcc('M','J','P','G'), 25, resize)\n",
        "\n",
        "  while(True):\n",
        "\n",
        "    ret, frame = cap.read()\n",
        "\n",
        "    if ret == True:\n",
        "      \n",
        "      #Resizing\n",
        "      frame =cv2.resize(frame, resize)\n",
        "      \n",
        "    \n",
        "      # detect humans\n",
        "      (regions, _) = hog.detectMultiScale(frame, winStride=(4, 4), padding=(4, 4), scale=1.05, \tuseMeanshiftGrouping = True)\n",
        "      \n",
        "\n",
        "      # Draw regions \n",
        "      for (x, y, w, h) in regions:\n",
        "          cv2.rectangle(frame, (x, y), (x + w, y + h), (0, 0, 255), 3)\n",
        "          \n",
        "          crop = frame[y:y+h, x:x+w]\n",
        "\n",
        "          #grayscale\n",
        "          crop = cv2.cvtColor(crop, cv2.COLOR_BGR2GRAY)\n",
        "          \n",
        "          # detect corners with the goodFeaturesToTrack function.\n",
        "          corners = cv2.goodFeaturesToTrack(crop, 27, 0.01, 10)\n",
        "          corners = np.int0(corners)\n",
        "          \n",
        "          width, height = crop.shape\n",
        "          \n",
        "          #plot each corner and draw line from centre of rectangle to it\n",
        "          for i in corners:\n",
        "            a, b = i.ravel()\n",
        "            \n",
        "            #Removing outliers in the crops (rectangles)\n",
        "            if a < (0.15* height) or a > (0.85*height):\n",
        "              continue\n",
        "\n",
        "            elif  b < (0.15* width) or b > (0.85*width):\n",
        "              continue\n",
        "            else:\n",
        "\n",
        "              #adjusting for original image size\n",
        "              a = a +x \n",
        "              b= b + y  \n",
        "\n",
        "              cv2.circle(frame, (a, b), 2, (255,0,0), 2)\n",
        "              cv2.line( frame, ((np.int(height/2)+x), (np.int(width/2)+y)), (a,b), (0,255,0), 1)\n",
        "\n",
        "      #Write the frame into the file 'output.avi'\n",
        "      out.write(frame)\n",
        "        \n",
        "    else:\n",
        "      break \n",
        "\n",
        "  # release the video capture and video write objects\n",
        "  cap.release()\n",
        "  out.release()"
      ],
      "execution_count": 2,
      "outputs": []
    },
    {
      "cell_type": "markdown",
      "metadata": {
        "id": "UhSOIOKyl24Q"
      },
      "source": [
        "# **Output**"
      ]
    },
    {
      "cell_type": "code",
      "metadata": {
        "id": "uaFTCzfeCxgR"
      },
      "source": [
        "Detector('/content/Input.mov', (640,360))"
      ],
      "execution_count": 3,
      "outputs": []
    }
  ]
}